{
  "nbformat": 4,
  "nbformat_minor": 0,
  "metadata": {
    "colab": {
      "name": "Копия блокнота \"Untitled0.ipynb\"",
      "provenance": [],
      "collapsed_sections": []
    },
    "kernelspec": {
      "name": "python3",
      "display_name": "Python 3"
    },
    "language_info": {
      "name": "python"
    }
  },
  "cells": [
    {
      "cell_type": "code",
      "source": [
        "#!/usr/bin/env python3\n",
        "# -*- coding: utf-8 -*-\n",
        "\n",
        "import time\n",
        "import multiprocessing\n",
        "import random\n",
        "import math\n",
        "from numba import jit\n",
        "#считаем интергар от 0 до 10 e^x dx с дроблением на n точек\n",
        "\n",
        "n = 10000\n",
        "@jit(nopython=True, fastmath=True)\n",
        "def montecarlo_jit(n):\n",
        "    s = 0\n",
        "    for i in range(n):\n",
        "      s +=(math.exp(1)**random.uniform(i/n*10, i/n*10+10/n))*10/n\n",
        "    return s\n",
        "\n",
        "\n",
        "def montecarlo(n):\n",
        "    s = 0\n",
        "    for i in range(n):\n",
        "      s +=(math.exp(1)**random.uniform(i/n*10, i/n*10+10/n))*10/n\n",
        "    return s\n",
        "\n",
        "\n",
        "\n",
        "%timeit montecarlo(n)\n",
        "\n",
        "montecarlo_jit(n)\n",
        "%timeit montecarlo_jit(n)"
      ],
      "metadata": {
        "colab": {
          "base_uri": "https://localhost:8080/"
        },
        "id": "vdt_RcNt9y2p",
        "outputId": "f4fdb054-1928-48ef-9a07-f85fadb796b7"
      },
      "execution_count": null,
      "outputs": [
        {
          "output_type": "stream",
          "name": "stdout",
          "text": [
            "100 loops, best of 5: 8.36 ms per loop\n",
            "1000 loops, best of 5: 288 µs per loop\n"
          ]
        }
      ]
    }
  ]
}
