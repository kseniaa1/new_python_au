{
 "cells": [
  {
   "cell_type": "code",
   "execution_count": 99,
   "id": "49deda2d-14dc-428c-b11a-f4eb34a6096c",
   "metadata": {},
   "outputs": [
    {
     "data": {
      "image/png": "[encoded data removed]",
      "text/plain": [
       "<Figure size 432x288 with 1 Axes>"
      ]
     },
     "metadata": {
      "needs_background": "light"
     },
     "output_type": "display_data"
    }
   ],
   "source": [
    "import pandas\n",
    "import matplotlib.pyplot as plt\n",
    "import random\n",
    "import math\n",
    "\n",
    "\n",
    "experiments = [4.82, 4.99, 4.91, 5.18, 4.92, 5.11, 5.03, 5.2, 4.99, 5.26, 4.84, 5.04, 5.04, 4.91, 4.99, 5.51, 5.39, 4.29, 5.11, 5.43, 5.03, 4.98, 5.13, 5.04, 5.18, 5.04]\n",
    "\n",
    "    \n",
    "plt.bar(list(range(len(experiments))), experiments)\n",
    "plt.title('Experimental data')\n",
    "plt.show()"
   ]
  },
  {
   "cell_type": "code",
   "execution_count": 100,
   "id": "fbef7e2d-bb79-430a-926d-486ab8e211e9",
   "metadata": {},
   "outputs": [],
   "source": [
    "df = pandas.read_csv(\"experiment.csv\", header = None)"
   ]
  },
  {
   "cell_type": "code",
   "execution_count": 101,
   "id": "8e8a86a7-9310-410f-886f-9bb788d501b6",
   "metadata": {},
   "outputs": [
    {
     "data": {
      "text/plain": [
       "<AxesSubplot:ylabel='Density'>"
      ]
     },
     "execution_count": 101,
     "metadata": {},
     "output_type": "execute_result"
    },
    {
     "data": {
      "image/png": "[encoded data removed]",
      "text/plain": [
       "<Figure size 432x288 with 1 Axes>"
      ]
     },
     "metadata": {
      "needs_background": "light"
     },
     "output_type": "display_data"
    }
   ],
   "source": [
    "df.plot.kde()"
   ]
  },
  {
   "cell_type": "code",
   "execution_count": 102,
   "id": "a779a73e-7d1b-454d-8591-2aeed103501e",
   "metadata": {},
   "outputs": [
    {
     "name": "stdout",
     "output_type": "stream",
     "text": [
      "     0     1\n",
      "0       0.00\n",
      "1    0  4.82\n",
      "2    1  4.99\n",
      "3    2  4.91\n",
      "4    3  5.18\n",
      "5    4  4.92\n",
      "6    5  5.11\n",
      "7    6  5.03\n",
      "8    7  5.20\n",
      "9    8  4.99\n",
      "10   9  5.26\n",
      "11  10  4.84\n",
      "12  11  5.04\n",
      "13  12  5.04\n",
      "14  13  4.91\n",
      "15  14  4.99\n",
      "16  15  5.51\n",
      "17  16  5.39\n",
      "18  17  4.29\n",
      "19  18  5.11\n",
      "20  19  5.43\n",
      "21  20  5.03\n",
      "22  21  4.98\n",
      "23  22  5.13\n",
      "24  23  5.04\n",
      "25  26  5.18\n",
      "26  25  5.04\n"
     ]
    }
   ],
   "source": [
    "print(df)"
   ]
  },
  {
   "cell_type": "code",
   "execution_count": 103,
   "id": "89a2eaf8-cccf-43fc-86cf-f0da536aa6bf",
   "metadata": {},
   "outputs": [
    {
     "name": "stdout",
     "output_type": "stream",
     "text": [
      "               1\n",
      "count  27.000000\n",
      "mean    4.865185\n",
      "std     0.998335\n",
      "min     0.000000\n",
      "25%     4.950000\n",
      "50%     5.040000\n",
      "75%     5.155000\n",
      "max     5.510000\n"
     ]
    }
   ],
   "source": [
    "print(df.describe())"
   ]
  },
  {
   "cell_type": "code",
   "execution_count": 104,
   "id": "5a2f9775-07da-4ced-9b54-f26c85afa9aa",
   "metadata": {},
   "outputs": [
    {
     "name": "stdout",
     "output_type": "stream",
     "text": [
      "KstestResult(statistic=0.15227508843481696, pvalue=0.5569191882975448)\n"
     ]
    }
   ],
   "source": [
    "from scipy import stats\n",
    "print(stats.kstest(df[1][1:26], 'norm', (df[1][1:26].mean(), df[1][1:26].std()), N=5000))"
   ]
  },
  {
   "cell_type": "code",
   "execution_count": 105,
   "id": "1c9d8fba-b7d1-40e2-a7f6-89a112ebc0e8",
   "metadata": {},
   "outputs": [],
   "source": [
    "#Данные - полученные числа при попытке нажать в секундомере ровно 5 секунд. Такая лабораторная была у меня в школе и нам сказали,\n",
    "#что получается нормальное распределение. Но здесь это НЕ опровергается :)"
   ]
  },
  {
   "cell_type": "code",
   "execution_count": null,
   "id": "f3acd04c-8651-4cdd-8002-4dcf82bb724e",
   "metadata": {},
   "outputs": [],
   "source": []
  }
 ],
 "metadata": {
  "kernelspec": {
   "display_name": "Python 3 (ipykernel)",
   "language": "python",
   "name": "python3"
  },
  "language_info": {
   "codemirror_mode": {
    "name": "ipython",
    "version": 3
   },
   "file_extension": ".py",
   "mimetype": "text/x-python",
   "name": "python",
   "nbconvert_exporter": "python",
   "pygments_lexer": "ipython3",
   "version": "3.10.0"
  }
 },
 "nbformat": 4,
 "nbformat_minor": 5
}
